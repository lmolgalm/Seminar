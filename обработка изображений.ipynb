{
 "cells": [
  {
   "cell_type": "markdown",
   "metadata": {},
   "source": [
    "# А. Практика. Написать программу для поиска ближайшей пары точек на плоскости методом сканирующей строки# "
   ]
  },
  {
   "cell_type": "code",
   "execution_count": 105,
   "metadata": {
    "ExecuteTime": {
     "end_time": "2019-01-17T21:43:26.726226Z",
     "start_time": "2019-01-17T21:43:26.634871Z"
    }
   },
   "outputs": [],
   "source": [
    "\n",
    "#Класс точка\n",
    "class pt:\n",
    "    def __init__(self, id_, x, y):\n",
    "        self.x = x\n",
    "        self.y = y\n",
    "        self.id = id_\n",
    "#Сравнение по x\n",
    "def cmp_x(a1, b1):\n",
    "    if a1.x < b1.x or a1.x == b1.x and a1.y < b1.y:\n",
    "        return 1\n",
    "    else:\n",
    "        return -1   \n",
    "    \n",
    "tmp =0\n",
    "#Сравнение по y\n",
    "def cmp_y(a1, b1):\n",
    "    if a1.y < b1.y:\n",
    "        return True\n",
    "    else:\n",
    "        return False\n"
   ]
  },
  {
   "cell_type": "code",
   "execution_count": 107,
   "metadata": {
    "ExecuteTime": {
     "end_time": "2019-01-17T21:47:31.297278Z",
     "start_time": "2019-01-17T21:47:31.225761Z"
    }
   },
   "outputs": [],
   "source": [
    "#Релаксация ответа\n",
    "def upd_ans(a1, b1):\n",
    "    global mindist\n",
    "    global ansa\n",
    "    global ansb\n",
    "    global count_dist\n",
    "    dist = np.sqrt((a1.x-b1.x)*(a1.x-b1.x) + (a1.y-b1.y)*(a1.y-b1.y) + .0);\n",
    "    count_dist += 1\n",
    "    if (dist < mindist):\n",
    "        mindist = dist\n",
    "        ansa = a1.id\n",
    "        ansb = b1.id\n",
    "        print(mindist, ansa, ansb)\n",
    "\n",
    "#Сортировка слиянием \n",
    "def mergeSort(arr1):\n",
    "    arr = arr1\n",
    "    if len(arr) >1: \n",
    "        mid = len(arr)//2 #Finding the mid of the array \n",
    "        L = arr[:mid] # Dividing the array elements  \n",
    "        R = arr[mid:] # into 2 halves \n",
    "  \n",
    "        L = mergeSort(L) # Sorting the first half \n",
    "        R = mergeSort(R) # Sorting the second half \n",
    "  \n",
    "        i = 0\n",
    "        j = 0\n",
    "        k = 0\n",
    "          \n",
    "        # Copy data to temp arrays L[] and R[] \n",
    "        while i < len(L) and j < len(R): \n",
    "            if cmp_y(L[i], R[j]): \n",
    "                #print(arr[k].y)\n",
    "                #print(L[i].y)\n",
    "                arr[k] = L[i] \n",
    "                #print(arr[k].y)\n",
    "                i+=1\n",
    "            else: \n",
    "                arr[k] = R[j] \n",
    "                j+=1\n",
    "            k+=1\n",
    "          \n",
    "        # Checking if any element was left \n",
    "        while i < len(L): \n",
    "            arr[k] = L[i] \n",
    "            i+=1\n",
    "            k+=1\n",
    "          \n",
    "        while j < len(R): \n",
    "            arr[k] = R[j] \n",
    "            j+=1\n",
    "            k+=1\n",
    "    return arr\n",
    "\n",
    "#функция для дебага вывода массива\n",
    "def printa(a):\n",
    "    print([el.id for el in a])\n",
    "\n",
    "#Функция разделяй и властвуй для нахождения наименьшего расстояния\n",
    "def rec(l, r) :\n",
    "    if (r - l <= 3):\n",
    "        for i in range(l , r+1 , 1):\n",
    "            for j in range(i+1, r+1, 1):\n",
    "                upd_ans(a[i], a[j])\n",
    "        a[l:r+1].sort(cmp= cmp_y )\n",
    "        return\n",
    "\n",
    "    m = (l + r) >> 1\n",
    "    \n",
    "    midx = a[m].x\n",
    "    rec(l, m)\n",
    "    rec (m+1, r)\n",
    "    \n",
    "    a[l:r+1] = mergeSort(a[l:r+1])\n",
    "    t = a[l:r+1]\n",
    "\n",
    "    tsz = 0\n",
    "    for i in range(l, r+1, 1):\n",
    "        if (abs (a[i].x - midx) < mindist):\n",
    "            j = tsz-1\n",
    "            while j>=0 and a[i].y - t[j].y < mindist:\n",
    "                upd_ans(a[i], t[j])\n",
    "                j -= 1\n",
    "            t[tsz] = a[i]\n",
    "            tsz += 1\n",
    "\n"
   ]
  },
  {
   "cell_type": "code",
   "execution_count": 113,
   "metadata": {
    "ExecuteTime": {
     "end_time": "2019-01-17T21:49:38.862146Z",
     "start_time": "2019-01-17T21:49:38.203837Z"
    }
   },
   "outputs": [
    {
     "name": "stdout",
     "output_type": "stream",
     "text": [
      "(10.0, 5525, 8948)\n",
      "(2.0, 8948, 3417)\n",
      "(1.0, 414, 8169)\n",
      "(0.0, 8169, 6912)\n",
      "8672\n"
     ]
    }
   ],
   "source": [
    "import numpy as np\n",
    "\n",
    "#Кол-во вычислений расстояния\n",
    "count_dist = 0\n",
    "\n",
    "#Кол-во точек\n",
    "MAXN = 10000;\n",
    "\n",
    "#Инициализация\n",
    "a = list()\n",
    "for i in range(MAXN):\n",
    "    a.append(pt(i, np.random.randint(low = -100, high=100), np.random.randint(low = -100, high=100)))\n",
    "    \n",
    "#ИНициализация ответа\n",
    "mindist = .0\n",
    "ansa = 0\n",
    "ansb = 0\n",
    "\n",
    "#Сортировка по x\n",
    "a.sort(cmp=cmp_x )\n",
    "\n",
    "mindist = 1E20\n",
    "\n",
    "#Вызов рекурсии\n",
    "rec(0, MAXN-1)   \n",
    "\n",
    "#Печать ответа\n",
    "print(count_dist)"
   ]
  },
  {
   "cell_type": "markdown",
   "metadata": {},
   "source": [
    "#  Б. Теория. Тест пересечения отрезка и треугольника в 3D."
   ]
  },
  {
   "cell_type": "code",
   "execution_count": 28,
   "metadata": {
    "ExecuteTime": {
     "end_time": "2019-02-17T20:07:59.284569Z",
     "start_time": "2019-02-17T20:07:59.261612Z"
    },
    "code_folding": []
   },
   "outputs": [
    {
     "name": "stdout",
     "output_type": "stream",
     "text": [
      "-27.0\n",
      "D lies above the supporting plane of triangle ABC\n"
     ]
    }
   ],
   "source": [
    "#orient3D which tests is a point (D) above or below the plane define by ABC\n",
    "#Функция orient3D(A(x,y,z), B(x,y,z), C(x,y,z), d(x,y,z)) - показывает с какой стороны точка d расположена относительно плоскости задаваемой точками A, B и C. \n",
    "class Point(object):\n",
    "\n",
    "\n",
    "    def __init__(self, x, y, z):\n",
    "\n",
    "        self.X = x\n",
    "        self.Y = y\n",
    "        self.Z = z\n",
    "        \n",
    "        \n",
    "class Matrix4x4(object):\n",
    " \n",
    "    def __init__(self, A, B, C, D):\n",
    "        self.a = A\n",
    "        self.b = B\n",
    "        self.c = C\n",
    "        self.d = D\n",
    "    \n",
    "    def Determinate(self):\n",
    "        return np.linalg.det([[self.a.X-self.d.X , self.a.Y-self.d.Y , self.a.Z-self.d.Z]\n",
    "                              ,[self.b.X-self.d.X , self.b.Y-self.d.Y , self.b.Z-self.d.Z]\n",
    "                              ,[self.c.X-self.d.X , self.c.Y-self.d.Y , self.c.Z-self.d.Z]])\n",
    " \n",
    "\n",
    "def orient3D(A,B,C,D):\n",
    "    return Matrix4x4(A,B,C,D).Determinate()\n",
    "\n",
    "#                                 A               B               C               D\n",
    "orient3D_Answer = orient3D(Point(1,4,2),   Point(0,1,4),  Point(-1,0,1),   Point(2,0,4));\n",
    "print(orient3D_Answer) \n",
    "if (orient3D_Answer > 0):\n",
    "    print \"D lies below the supporting plane of triangle ABC\"\n",
    "else:\n",
    "    if (orient3D_Answer < 0) :\n",
    "        print \"D lies above the supporting plane of triangle ABC\"\n",
    "    else :\n",
    "        print \"D lies in the supporting plane of triangle ABC\"\n"
   ]
  },
  {
   "cell_type": "code",
   "execution_count": 56,
   "metadata": {
    "ExecuteTime": {
     "end_time": "2019-02-22T11:38:45.961387Z",
     "start_time": "2019-02-22T11:38:45.944743Z"
    },
    "code_folding": []
   },
   "outputs": [],
   "source": [
    "\n",
    "def LineIntersectTriangle(P1,P2,A,B,C):\n",
    "\n",
    "    #Пусть дан отрезок (point P1 ; point P2) и треугольник (point A, point B, point C). \n",
    "    #Сначало проверим, где относильно плоскости задаваемой треугольником находятся точки отрезка.\n",
    "    orient3D_p1 = orient3D(A, B, C, P1)\n",
    "    orient3D_p2 = orient3D(A, B, C, P2)\n",
    "    print orient3D_p1, orient3D_p2\n",
    "    #Если orient3D_x1 * orient3D_x2 > 0 (по одну сторону) , то не пересекает.\n",
    "    if orient3D_p1 * orient3D_p2 > 0 :\n",
    "        return 'no intersect 1'\n",
    "\n",
    "    #Если знаки разные, построим треугольники с вершиной в P1 и всеми парами вершин из треугольника ABC. Посмотрим где относительно этих плоскостей лежит точка X2\n",
    "\n",
    "    else:\n",
    "        orient3D_p1AB = orient3D(P1, A, B, P2)\n",
    "        orient3D_p1AC = orient3D(P1, A, C, P2)\n",
    "        orient3D_p1BC = orient3D(P1, B, C, P2)\n",
    "    #если ненулевые имеют одинаковые знаки, значит (P1, P2) пересекает треугольник.\n",
    "        if (orient3D_p1AB * orient3D_p1AC > 0) and (orient3D_p1AC*orient3D_p1BC > 0):\n",
    "            return 'intersect 2'\n",
    "    #если имеют разные знаки, пересечения нет.\n",
    "        else:\n",
    "            if orient3D_p1AB*orient3D_p1AC < 0 or orient3D_p1AC*orient3D_p1BC < 0:\n",
    "                return 'no intersect 3'        \n",
    "    #Если обе точки находятся на плоскости, нужно проверить, пересекает ли отрезок стороны треугольника:\n",
    "            else:\n",
    "                return u\"Отрезок находится на плоскости. С помощью oriend2D проверить пересекает ли отрезок стороны треугольника. Для этого надо текущие координаты перевести в новый базис (A,B,C) с помощью матричного убножения (см картинку ниже), где A - матрица новых координат в старом базисе\"\n",
    "\n",
    "              \n",
    "        "
   ]
  },
  {
   "attachments": {
    "image.png": {
     "image/png": "[encoded data removed]"
    }
   },
   "cell_type": "markdown",
   "metadata": {
    "ExecuteTime": {
     "end_time": "2019-02-22T11:38:38.830370Z",
     "start_time": "2019-02-22T11:38:38.814567Z"
    }
   },
   "source": [
    "![image.png](attachment:image.png)"
   ]
  },
  {
   "cell_type": "code",
   "execution_count": null,
   "metadata": {},
   "outputs": [],
   "source": []
  }
 ],
 "metadata": {
  "kernelspec": {
   "display_name": "Python 2.7",
   "language": "python",
   "name": "python2"
  },
  "language_info": {
   "codemirror_mode": {
    "name": "ipython",
    "version": 2
   },
   "file_extension": ".py",
   "mimetype": "text/x-python",
   "name": "python",
   "nbconvert_exporter": "python",
   "pygments_lexer": "ipython2",
   "version": "2.7.3"
  }
 },
 "nbformat": 4,
 "nbformat_minor": 2
}
